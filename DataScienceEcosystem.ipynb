{
 "cells": [
  {
   "cell_type": "markdown",
   "id": "bd985f5c-401c-4301-a899-04124fa3f15a",
   "metadata": {},
   "source": [
    "# Data Science Tools and Ecosystem"
   ]
  },
  {
   "cell_type": "markdown",
   "id": "3c3d5f88-f5d4-4134-8f20-bb6f86f7f90d",
   "metadata": {},
   "source": [
    "In this notebook, Data Science Tools and Ecosystem are summarized."
   ]
  },
  {
   "cell_type": "markdown",
   "id": "7426c274-01d7-4db5-bb36-43b0d0742914",
   "metadata": {},
   "source": [
    "**Objectives**\n",
    "* List popular languages in Data Science\n",
    "* List popular tools for Data Science\n",
    "* List commonly used libraries for Data Science"
   ]
  },
  {
   "cell_type": "markdown",
   "id": "b8980765-5489-455d-b621-16c460546154",
   "metadata": {},
   "source": [
    "Some of the popular languages that Data Scientists use are:\n",
    "1. Python\n",
    "2. R\n",
    "3. SQL"
   ]
  },
  {
   "cell_type": "markdown",
   "id": "d808a04c-e498-4f6a-8f56-9704677a2193",
   "metadata": {},
   "source": [
    "Some of the commonly used libraries by Data Scientists include:\n",
    "1. pandas\n",
    "2. ggplot2\n",
    "3. matplotlib"
   ]
  },
  {
   "cell_type": "markdown",
   "id": "925e9d59-fd02-473b-b05e-435470879304",
   "metadata": {},
   "source": [
    "|Data Science Tools|\n",
    "|------------------|\n",
    "|Jupyter|\n",
    "|R Studio|\n",
    "|Spyder|"
   ]
  },
  {
   "cell_type": "markdown",
   "id": "69ae5c85-da0e-4fe5-b116-4e01f7729cb7",
   "metadata": {},
   "source": [
    "### Below are a few examples of evaluating expressions in Python"
   ]
  },
  {
   "cell_type": "code",
   "execution_count": 1,
   "id": "df33e099-b56b-4166-a596-e7d3854581db",
   "metadata": {},
   "outputs": [
    {
     "data": {
      "text/plain": [
       "17"
      ]
     },
     "execution_count": 1,
     "metadata": {},
     "output_type": "execute_result"
    }
   ],
   "source": [
    "(3*4)+5"
   ]
  },
  {
   "cell_type": "code",
   "execution_count": 2,
   "id": "427805aa-d985-4210-a8e7-0e5f9d316680",
   "metadata": {},
   "outputs": [
    {
     "data": {
      "text/plain": [
       "3.3333333333333335"
      ]
     },
     "execution_count": 2,
     "metadata": {},
     "output_type": "execute_result"
    }
   ],
   "source": [
    "#This will convert 200 minutes to hours by dividing by 60\n",
    "200/60"
   ]
  },
  {
   "cell_type": "markdown",
   "id": "1e0a0d66-74ac-41a8-96b3-06ebf99bda04",
   "metadata": {},
   "source": [
    "## Author\n",
    "Maisha Heatley"
   ]
  },
  {
   "cell_type": "code",
   "execution_count": null,
   "id": "ba45f375-5877-4e1f-a8d2-f1c35ed2cc31",
   "metadata": {},
   "outputs": [],
   "source": []
  }
 ],
 "metadata": {
  "kernelspec": {
   "display_name": "Python 3 (ipykernel)",
   "language": "python",
   "name": "python3"
  },
  "language_info": {
   "codemirror_mode": {
    "name": "ipython",
    "version": 3
   },
   "file_extension": ".py",
   "mimetype": "text/x-python",
   "name": "python",
   "nbconvert_exporter": "python",
   "pygments_lexer": "ipython3",
   "version": "3.8.2"
  }
 },
 "nbformat": 4,
 "nbformat_minor": 5
}
